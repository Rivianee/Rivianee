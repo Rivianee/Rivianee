{
  "nbformat": 4,
  "nbformat_minor": 0,
  "metadata": {
    "colab": {
      "provenance": [],
      "include_colab_link": true
    },
    "kernelspec": {
      "name": "python3",
      "display_name": "Python 3"
    },
    "language_info": {
      "name": "python"
    }
  },
  "cells": [
    {
      "cell_type": "markdown",
      "metadata": {
        "id": "view-in-github",
        "colab_type": "text"
      },
      "source": [
        "<a href=\"https://colab.research.google.com/github/Rivianee/Rivianee/blob/main/C%C3%B3pia_de_ste_py.ipynb\" target=\"_parent\"><img src=\"https://colab.research.google.com/assets/colab-badge.svg\" alt=\"Open In Colab\"/></a>"
      ]
    },
    {
      "cell_type": "code",
      "source": [
        "import streamlit as st\n",
        "import pandas as pd\n",
        "import numpy as np\n",
        "import pickle\n",
        "from sklearn.preprocessing import OneHotEncoder\n",
        "from lightgbm import LGBMClassifier\n",
        "from sklearn.compose import ColumnTransformer\n",
        "from sklearn.model_selection import train_test_split\n",
        "from sklearn.metrics import accuracy_score, precision_score, recall_score, f1_score\n",
        "\n",
        "# Função para carregar e processar os dados\n",
        "def load_and_process_data(filepath):\n",
        "    data = pd.read_excel(filepath)\n",
        "\n",
        "    # Remover espaços em branco dos nomes de colunas\n",
        "    data.columns = data.columns.str.replace(' ', '_')\n",
        "\n",
        "    X = data.drop('fez_portabilidade', axis=1)\n",
        "    y = data['fez_portabilidade']\n",
        "\n",
        "    categorical_cols = X.select_dtypes(include=['object']).columns\n",
        "\n",
        "    # Usar ColumnTransformer para aplicar OneHotEncoder apenas nas colunas categóricas\n",
        "    transformer = ColumnTransformer(\n",
        "        [('encoder', OneHotEncoder(drop='first', handle_unknown='ignore'), categorical_cols)],\n",
        "        remainder='passthrough'\n",
        "    )\n",
        "    X_encoded = transformer.fit_transform(X)\n",
        "\n",
        "    return X_encoded, y, transformer, data\n",
        "\n",
        "# Função para treinar e salvar o modelo\n",
        "def train_and_save_model(X, y, transformer, model_path='model.pkl', transformer_path='transformer.pkl'):\n",
        "    X_train, X_test, y_train, y_test = train_test_split(X, y, test_size=0.3, random_state=42, stratify=y)\n",
        "\n",
        "    model = LGBMClassifier(random_state=42)\n",
        "    model.fit(X_train, y_train)\n",
        "\n",
        "    y_pred = model.predict(X_test)\n",
        "    accuracy = accuracy_score(y_test, y_pred)\n",
        "    precision = precision_score(y_test, y_pred)\n",
        "    recall = recall_score(y_test, y_pred)\n",
        "    f1 = f1_score(y_test, y_pred)\n",
        "\n",
        "    with open(model_path, 'wb') as f:\n",
        "        pickle.dump(model, f)\n",
        "    with open(transformer_path, 'wb') as f:\n",
        "        pickle.dump(transformer, f)\n",
        "\n",
        "    return model, transformer, accuracy, precision, recall, f1\n",
        "\n",
        "# Função para carregar o modelo treinado e o transformer\n",
        "def load_model_and_transformer(model_path='model.pkl', transformer_path='transformer.pkl'):\n",
        "    with open(model_path, 'rb') as f:\n",
        "        model = pickle.load(f)\n",
        "    with open(transformer_path, 'rb') as f:\n",
        "        transformer = pickle.load(f)\n",
        "    return model, transformer\n",
        "\n",
        "# Função para fazer previsões com o modelo treinado\n",
        "def predict(model, transformer, params):\n",
        "    input_df = pd.DataFrame(params, index=[0])\n",
        "    transformed_input = transformer.transform(input_df)\n",
        "    prediction = model.predict(transformed_input)\n",
        "    probability = model.predict_proba(transformed_input)[:, 1]  # Probabilidade de sucesso\n",
        "\n",
        "    return prediction, probability\n",
        "\n",
        "# Configuração do app Streamlit\n",
        "def main():\n",
        "    st.title('Previsão de Portabilidade')\n",
        "\n",
        "    # Carregar e processar os dados uma vez (caminho do seu arquivo Excel)\n",
        "    data_file_path = 'PLANILHA_ATUALIZADA_MODELAGEM_28_06_2024.xlsx'\n",
        "    X, y, transformer, original_data = load_and_process_data(data_file_path)\n",
        "\n",
        "    # Treinar e salvar o modelo uma vez\n",
        "    model, transformer, accuracy, precision, recall, f1 = train_and_save_model(X, y, transformer)\n",
        "\n",
        "    st.sidebar.header('Insira os dados do cliente')\n",
        "    user_params = {}\n",
        "    for column in original_data.columns:\n",
        "        if column != 'fez_portabilidade':\n",
        "            if original_data[column].dtype == 'object':\n",
        "                unique_values = original_data[column].unique()\n",
        "                user_params[column] = st.sidebar.selectbox(column, unique_values)\n",
        "            else:\n",
        "                user_params[column] = st.sidebar.number_input(column)\n",
        "\n",
        "    if st.sidebar.button('Prever'):\n",
        "        if all(user_params.values()):\n",
        "            prediction, probability = predict(model, transformer, user_params)\n",
        "            st.write('### Resultado da Previsão:')\n",
        "            st.write(f'A pessoa provavelmente {\"fará\" if prediction == 1 else \"não fará\"} portabilidade.')\n",
        "            st.write(f'Probabilidade de sucesso: {probability[0]:.2%}')\n",
        "\n",
        "            # Exibir métricas do modelo\n",
        "            st.subheader('Métricas do Modelo')\n",
        "            st.write(f'Acurácia: {accuracy:.2%}')\n",
        "            st.write(f'Precisão: {precision:.2%}')\n",
        "            st.write(f'Recall: {recall:.2%}')\n",
        "            st.write(f'F1 Score: {f1:.2%}')\n",
        "\n",
        "        else:\n",
        "            st.write('Preencha todos os parâmetros para fazer a previsão.')\n",
        "\n",
        "if __name__ == \"__main__\":\n",
        "    main()"
      ],
      "metadata": {
        "colab": {
          "base_uri": "https://localhost:8080/"
        },
        "id": "SFrY-Csdw5W9",
        "outputId": "db3f247d-8c17-4128-a861-85ecdfddb945"
      },
      "execution_count": null,
      "outputs": [
        {
          "output_type": "stream",
          "name": "stdout",
          "text": [
            "[LightGBM] [Info] Number of positive: 5341, number of negative: 5341\n",
            "[LightGBM] [Info] Auto-choosing col-wise multi-threading, the overhead of testing was 0.002758 seconds.\n",
            "You can set `force_col_wise=true` to remove the overhead.\n",
            "[LightGBM] [Info] Total Bins 1855\n",
            "[LightGBM] [Info] Number of data points in the train set: 10682, number of used features: 45\n",
            "[LightGBM] [Info] [binary:BoostFromScore]: pavg=0.500000 -> initscore=0.000000\n"
          ]
        }
      ]
    }
  ]
}